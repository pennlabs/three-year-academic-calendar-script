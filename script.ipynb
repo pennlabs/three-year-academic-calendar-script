{
 "cells": [
  {
   "cell_type": "code",
   "execution_count": 187,
   "metadata": {
    "collapsed": true
   },
   "outputs": [],
   "source": [
    "import pandas as pd\n",
    "import datetime\n",
    "import time\n",
    "from dateutil.parser import parse\n",
    "import json\n",
    "\n",
    "FALL_YEAR = 2017\n",
    "SPRING_YEAR = 2018\n",
    "SUMMER_YEAR = 2018"
   ]
  },
  {
   "cell_type": "code",
   "execution_count": 188,
   "metadata": {
    "collapsed": true
   },
   "outputs": [],
   "source": [
    "html = pd.read_html('http://www.upenn.edu/almanac/3yearcal.html', parse_dates=True)"
   ]
  },
  {
   "cell_type": "code",
   "execution_count": 189,
   "metadata": {},
   "outputs": [
    {
     "name": "stderr",
     "output_type": "stream",
     "text": [
      "/Users/niharpatil/anaconda/lib/python2.7/site-packages/ipykernel_launcher.py:9: SettingWithCopyWarning: \n",
      "A value is trying to be set on a copy of a slice from a DataFrame\n",
      "\n",
      "See the caveats in the documentation: http://pandas.pydata.org/pandas-docs/stable/indexing.html#indexing-view-versus-copy\n",
      "  if __name__ == '__main__':\n",
      "/Users/niharpatil/anaconda/lib/python2.7/site-packages/ipykernel_launcher.py:10: SettingWithCopyWarning: \n",
      "A value is trying to be set on a copy of a slice from a DataFrame\n",
      "\n",
      "See the caveats in the documentation: http://pandas.pydata.org/pandas-docs/stable/indexing.html#indexing-view-versus-copy\n",
      "  # Remove the CWD from sys.path while we load stuff.\n",
      "/Users/niharpatil/anaconda/lib/python2.7/site-packages/ipykernel_launcher.py:11: SettingWithCopyWarning: \n",
      "A value is trying to be set on a copy of a slice from a DataFrame\n",
      "\n",
      "See the caveats in the documentation: http://pandas.pydata.org/pandas-docs/stable/indexing.html#indexing-view-versus-copy\n",
      "  # This is added back by InteractiveShellApp.init_path()\n"
     ]
    }
   ],
   "source": [
    "relevant_rows = pd.DataFrame(html[0].iloc[29:74, 0:5])\n",
    "\n",
    "#separate the rows by term\n",
    "fall = relevant_rows.loc[30:49]\n",
    "spring = relevant_rows.loc[51:65]\n",
    "summer = relevant_rows.loc[67:73]\n",
    "\n",
    "# Only grab values for Fall 2017\n",
    "fall.drop([1,3,4], axis = 1, inplace = True)\n",
    "spring.drop([1,3,4], axis = 1, inplace = True)\n",
    "summer.drop([1,3,4], axis = 1, inplace = True)\n",
    "\n",
    "#remove integer indexing\n",
    "fall.set_index(0,inplace=True)\n",
    "spring.set_index(0,inplace=True)\n",
    "summer.set_index(0,inplace=True)\n",
    "\n",
    "#rename columns\n",
    "fall.rename(index=str, columns = {2:'dates'}, inplace=True)\n",
    "spring.rename(index=str, columns = {2:'dates'}, inplace=True)\n",
    "summer.rename(index=str, columns = {2:'dates'}, inplace=True)\n"
   ]
  },
  {
   "cell_type": "code",
   "execution_count": 190,
   "metadata": {},
   "outputs": [],
   "source": [
    "#returns [start_date, end_date] for every event\n",
    "def split_date_by_hyphen(datestring):\n",
    "    date_range = datestring.split('-')\n",
    "    if(len(date_range) == 1):\n",
    "        return [datestring, datestring]\n",
    "    start_date = date_range[0]\n",
    "    end = date_range[1]\n",
    "    try:\n",
    "        end_number = int(end)\n",
    "        month = start_date.split(' ')[0]\n",
    "        end_date = month + ' ' + str(end_number)\n",
    "        return [start_date, end_date]\n",
    "    except ValueError:\n",
    "        return [start_date, end]"
   ]
  },
  {
   "cell_type": "code",
   "execution_count": 191,
   "metadata": {},
   "outputs": [
    {
     "name": "stderr",
     "output_type": "stream",
     "text": [
      "/Users/niharpatil/anaconda/lib/python2.7/site-packages/ipykernel_launcher.py:2: SettingWithCopyWarning: \n",
      "A value is trying to be set on a copy of a slice from a DataFrame\n",
      "\n",
      "See the caveats in the documentation: http://pandas.pydata.org/pandas-docs/stable/indexing.html#indexing-view-versus-copy\n",
      "  \n",
      "/Users/niharpatil/anaconda/lib/python2.7/site-packages/ipykernel_launcher.py:3: SettingWithCopyWarning: \n",
      "A value is trying to be set on a copy of a slice from a DataFrame\n",
      "\n",
      "See the caveats in the documentation: http://pandas.pydata.org/pandas-docs/stable/indexing.html#indexing-view-versus-copy\n",
      "  This is separate from the ipykernel package so we can avoid doing imports until\n"
     ]
    }
   ],
   "source": [
    "#stuff cleaning 2017-2018 rows\n",
    "fall.loc['Homecoming'] = 'November 4'\n",
    "spring.iloc[0] = 'January 10'"
   ]
  },
  {
   "cell_type": "code",
   "execution_count": 192,
   "metadata": {},
   "outputs": [],
   "source": [
    "def extract_events(df): \n",
    "    df = df.copy(deep=True)\n",
    "    events = []\n",
    "    for index, row in df.iterrows():\n",
    "        date = row['dates']\n",
    "        date_range = split_date_by_hyphen(date)\n",
    "        start_date_str = str(parse(date_range[0]))\n",
    "        end_date_str = str(parse(date_range[1]))\n",
    "\n",
    "        events.append({\n",
    "            \"event\": index,\n",
    "            \"start\": start_date_str,\n",
    "            \"end\": end_date_str\n",
    "        })\n",
    "\n",
    "    return events\n",
    "    \n",
    "events = extract_events(fall) + extract_events(spring) + extract_events(summer)\n",
    "\n",
    "with open('events.json', 'wb') as outfile:\n",
    "    json.dump(events, outfile)"
   ]
  },
  {
   "cell_type": "code",
   "execution_count": null,
   "metadata": {
    "collapsed": true
   },
   "outputs": [],
   "source": []
  }
 ],
 "metadata": {
  "kernelspec": {
   "display_name": "Python 2",
   "language": "python",
   "name": "python2"
  },
  "language_info": {
   "codemirror_mode": {
    "name": "ipython",
    "version": 2
   },
   "file_extension": ".py",
   "mimetype": "text/x-python",
   "name": "python",
   "nbconvert_exporter": "python",
   "pygments_lexer": "ipython2",
   "version": "2.7.13"
  }
 },
 "nbformat": 4,
 "nbformat_minor": 2
}
