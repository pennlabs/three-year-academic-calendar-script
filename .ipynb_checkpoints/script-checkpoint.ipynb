{
 "cells": [
  {
   "cell_type": "code",
   "execution_count": 100,
   "metadata": {
    "collapsed": true
   },
   "outputs": [],
   "source": [
    "import pandas as pd\n",
    "import datetime\n",
    "import time\n",
    "from dateutil.parser import parse\n",
    "\n",
    "FALL_YEAR = 2017\n",
    "SPRING_YEAR = 2018\n",
    "SUMMER_YEAR = 2018"
   ]
  },
  {
   "cell_type": "code",
   "execution_count": 101,
   "metadata": {
    "collapsed": true
   },
   "outputs": [],
   "source": [
    "html = pd.read_html('http://www.upenn.edu/almanac/3yearcal.html', parse_dates=True)"
   ]
  },
  {
   "cell_type": "code",
   "execution_count": 115,
   "metadata": {},
   "outputs": [
    {
     "name": "stderr",
     "output_type": "stream",
     "text": [
      "/Users/niharpatil/anaconda/lib/python2.7/site-packages/ipykernel_launcher.py:9: SettingWithCopyWarning: \n",
      "A value is trying to be set on a copy of a slice from a DataFrame\n",
      "\n",
      "See the caveats in the documentation: http://pandas.pydata.org/pandas-docs/stable/indexing.html#indexing-view-versus-copy\n",
      "  if __name__ == '__main__':\n",
      "/Users/niharpatil/anaconda/lib/python2.7/site-packages/ipykernel_launcher.py:10: SettingWithCopyWarning: \n",
      "A value is trying to be set on a copy of a slice from a DataFrame\n",
      "\n",
      "See the caveats in the documentation: http://pandas.pydata.org/pandas-docs/stable/indexing.html#indexing-view-versus-copy\n",
      "  # Remove the CWD from sys.path while we load stuff.\n",
      "/Users/niharpatil/anaconda/lib/python2.7/site-packages/ipykernel_launcher.py:11: SettingWithCopyWarning: \n",
      "A value is trying to be set on a copy of a slice from a DataFrame\n",
      "\n",
      "See the caveats in the documentation: http://pandas.pydata.org/pandas-docs/stable/indexing.html#indexing-view-versus-copy\n",
      "  # This is added back by InteractiveShellApp.init_path()\n"
     ]
    }
   ],
   "source": [
    "relevant_rows = pd.DataFrame(html[0].iloc[29:74, 0:5])\n",
    "\n",
    "#separate the rows by term\n",
    "fall = relevant_rows.loc[30:49]\n",
    "spring = relevant_rows.loc[51:65]\n",
    "summer = relevant_rows.loc[67:73]\n",
    "\n",
    "# Only grab values for Fall 2017\n",
    "fall.drop([1,3,4], axis = 1, inplace = True)\n",
    "spring.drop([1,3,4], axis = 1, inplace = True)\n",
    "summer.drop([1,3,4], axis = 1, inplace = True)\n",
    "\n",
    "#remove integer indexing\n",
    "fall.set_index(0,inplace=True)\n",
    "spring.set_index(0,inplace=True)\n",
    "summer.set_index(0,inplace=True)\n",
    "\n",
    "#rename columns\n",
    "fall.rename(index=str, columns = {2:'dates'}, inplace=True)\n",
    "spring.rename(index=str, columns = {2:'dates'}, inplace=True)\n",
    "summer.rename(index=str, columns = {2:'dates'}, inplace=True)\n"
   ]
  },
  {
   "cell_type": "code",
   "execution_count": null,
   "metadata": {
    "collapsed": true
   },
   "outputs": [],
   "source": [
    "def split_date_by_hyphen(datestring):\n",
    "    date_range = datestring.split('-')\n",
    "    if(len(date_range) == 1):\n",
    "        return [datestring]\n",
    "    start = date_range[0]\n",
    "    end = date_range[1]\n",
    "    try:\n",
    "        end_number = int(end)\n",
    "    except ValueError:\n",
    "        print \"cocks\"\n",
    "    \n",
    "\n",
    "split_date_by_hyphen('August 23-26')"
   ]
  },
  {
   "cell_type": "code",
   "execution_count": 116,
   "metadata": {},
   "outputs": [
    {
     "name": "stderr",
     "output_type": "stream",
     "text": [
      "/Users/niharpatil/anaconda/lib/python2.7/site-packages/ipykernel_launcher.py:2: SettingWithCopyWarning: \n",
      "A value is trying to be set on a copy of a slice from a DataFrame\n",
      "\n",
      "See the caveats in the documentation: http://pandas.pydata.org/pandas-docs/stable/indexing.html#indexing-view-versus-copy\n",
      "  \n"
     ]
    },
    {
     "data": {
      "text/html": [
       "<div>\n",
       "<style>\n",
       "    .dataframe thead tr:only-child th {\n",
       "        text-align: right;\n",
       "    }\n",
       "\n",
       "    .dataframe thead th {\n",
       "        text-align: left;\n",
       "    }\n",
       "\n",
       "    .dataframe tbody tr th {\n",
       "        vertical-align: top;\n",
       "    }\n",
       "</style>\n",
       "<table border=\"1\" class=\"dataframe\">\n",
       "  <thead>\n",
       "    <tr style=\"text-align: right;\">\n",
       "      <th></th>\n",
       "      <th>dates</th>\n",
       "    </tr>\n",
       "    <tr>\n",
       "      <th>0</th>\n",
       "      <th></th>\n",
       "    </tr>\n",
       "  </thead>\n",
       "  <tbody>\n",
       "    <tr>\n",
       "      <th>Move-in for First-year &amp; Transfer Students</th>\n",
       "      <td>August 23</td>\n",
       "    </tr>\n",
       "    <tr>\n",
       "      <th>New Student Orientation</th>\n",
       "      <td>August 23-28</td>\n",
       "    </tr>\n",
       "    <tr>\n",
       "      <th>Opening Exercises and Freshman Convocation</th>\n",
       "      <td>August 28</td>\n",
       "    </tr>\n",
       "    <tr>\n",
       "      <th>First Day of Classes</th>\n",
       "      <td>August 29</td>\n",
       "    </tr>\n",
       "    <tr>\n",
       "      <th>Labor Day (no classes)</th>\n",
       "      <td>September 4</td>\n",
       "    </tr>\n",
       "    <tr>\n",
       "      <th>Course Selection Period ends</th>\n",
       "      <td>September 18</td>\n",
       "    </tr>\n",
       "    <tr>\n",
       "      <th>Fall Term Break</th>\n",
       "      <td>October 5-8</td>\n",
       "    </tr>\n",
       "    <tr>\n",
       "      <th>Drop Period ends</th>\n",
       "      <td>October 9</td>\n",
       "    </tr>\n",
       "    <tr>\n",
       "      <th>Classes Resume</th>\n",
       "      <td>October 9</td>\n",
       "    </tr>\n",
       "    <tr>\n",
       "      <th>Family Weekend</th>\n",
       "      <td>October 27-29</td>\n",
       "    </tr>\n",
       "    <tr>\n",
       "      <th>Advance Registration for Spring Term</th>\n",
       "      <td>October 30-November 12</td>\n",
       "    </tr>\n",
       "    <tr>\n",
       "      <th>Last Day to withdraw from a course</th>\n",
       "      <td>November 10</td>\n",
       "    </tr>\n",
       "    <tr>\n",
       "      <th>Homecoming</th>\n",
       "      <td>November 4</td>\n",
       "    </tr>\n",
       "    <tr>\n",
       "      <th>Thur-Fri class schedule on Tue-Wed</th>\n",
       "      <td>November 21-22</td>\n",
       "    </tr>\n",
       "    <tr>\n",
       "      <th>Thanksgiving Break</th>\n",
       "      <td>November 23-26</td>\n",
       "    </tr>\n",
       "    <tr>\n",
       "      <th>Classes Resume</th>\n",
       "      <td>November 27</td>\n",
       "    </tr>\n",
       "    <tr>\n",
       "      <th>Last Day of Classes</th>\n",
       "      <td>December 11</td>\n",
       "    </tr>\n",
       "    <tr>\n",
       "      <th>Reading Days</th>\n",
       "      <td>December 12-13</td>\n",
       "    </tr>\n",
       "    <tr>\n",
       "      <th>Final Examinations</th>\n",
       "      <td>December 14-21</td>\n",
       "    </tr>\n",
       "    <tr>\n",
       "      <th>Fall Term ends</th>\n",
       "      <td>December 21</td>\n",
       "    </tr>\n",
       "  </tbody>\n",
       "</table>\n",
       "</div>"
      ],
      "text/plain": [
       "                                                             dates\n",
       "0                                                                 \n",
       "Move-in for First-year & Transfer Students               August 23\n",
       "New Student Orientation                               August 23-28\n",
       "Opening Exercises and Freshman Convocation               August 28\n",
       "First Day of Classes                                     August 29\n",
       "Labor Day (no classes)                                 September 4\n",
       "Course Selection Period ends                          September 18\n",
       "Fall Term Break                                        October 5-8\n",
       "Drop Period ends                                         October 9\n",
       "Classes Resume                                           October 9\n",
       "Family Weekend                                       October 27-29\n",
       "Advance Registration for Spring Term        October 30-November 12\n",
       "Last Day to withdraw from a course                     November 10\n",
       "Homecoming                                              November 4\n",
       "Thur-Fri class schedule on Tue-Wed                  November 21-22\n",
       "Thanksgiving Break                                  November 23-26\n",
       "Classes Resume                                         November 27\n",
       "Last Day of Classes                                    December 11\n",
       "Reading Days                                        December 12-13\n",
       "Final Examinations                                  December 14-21\n",
       "Fall Term ends                                         December 21"
      ]
     },
     "execution_count": 116,
     "metadata": {},
     "output_type": "execute_result"
    }
   ],
   "source": [
    "#stuff cleaning 2017-2018 rows\n",
    "fall.loc['Homecoming'] = 'November 4'\n",
    "fall"
   ]
  },
  {
   "cell_type": "code",
   "execution_count": null,
   "metadata": {
    "collapsed": true
   },
   "outputs": [],
   "source": []
  }
 ],
 "metadata": {
  "kernelspec": {
   "display_name": "Python 2",
   "language": "python",
   "name": "python2"
  },
  "language_info": {
   "codemirror_mode": {
    "name": "ipython",
    "version": 2
   },
   "file_extension": ".py",
   "mimetype": "text/x-python",
   "name": "python",
   "nbconvert_exporter": "python",
   "pygments_lexer": "ipython2",
   "version": "2.7.13"
  }
 },
 "nbformat": 4,
 "nbformat_minor": 2
}
